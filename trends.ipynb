{
 "cells": [
  {
   "cell_type": "markdown",
   "metadata": {},
   "source": [
    "Цель проекта - выявление трендов на определённых рынках с последующим построении стратегии компании с учетом этих трендов. \n",
    "\n",
    "Методология - поиск устойчивых словосочетаний в научных статьях, частота употребления которых растет. \n",
    "Также выявление нелинейных закономерностей для определения более непредсказуемых всплесков популярности различных тематик. \n",
    "\n",
    "1. парсинг научных статей \n",
    "2. очистка от html кода и удаление общеупотребимых слов(словарь пополнялся в ходе обучения модели)  и объединение текстов в единой коррпус\n",
    "3. разбивка на словосочетания(триграммы и биграммы) \n",
    "4. рассчет частотности словосочетаний по годам\n",
    "5. формирование признаков(на которых в итоге обучалась модель): частотность, общий размер корпуса(для нормализации), количество статей, в которых встречается словосочетание, общее количество статей\n",
    "6. целевая переменная 1 или 0, 1 - тренд, 0 - тренд (консультанты вручную разметили около 10 000 тысяч словосочетаний) \n",
    "7. обучение модели машинного обучения для предсказаний: тренд не тренд\n",
    "8. модель верно предсказывает около 75% из словосочетаний, которые точно не тренды \n",
    "9. модель верно предсказывает около 65% из словосочетаний, которые точно тренды\n",
    "10. производится отбор после предсказаний модели на основании анализа динамики частотности\n",
    "\n",
    "В итоге цель была достигнута, модель отсеивает большую часть словосочетаний, которые не относятся к возможным трендам и облегчает работу консультантов, \n",
    "выдавая вероятные тренды, которые потом, конечно анализирует человек и под конретную задачу бизнеса формирует наиболее вероятные тренды, а на осовании этого различные \n",
    "варианты стратегии. \n",
    "\n",
    "Перспективы модели \n",
    "1. точность будет расти при увеличении объема разметки\n",
    "2. точность будет расти при добавлении новых общеупотребимых слов \n",
    "3. так же возможен рост модели при многократном предсказании модели, используя уже готовые предсказания предыдущей модели. это просев \n",
    "возможен как 'вручную', так будет легче контролировать процесс и с помощью анасмаблевых моделей(например градиентный бустинг)"
   ]
  },
  {
   "cell_type": "code",
   "execution_count": null,
   "metadata": {},
   "outputs": [],
   "source": [
    "import json\n",
    "import pandas as pd\n",
    "import re\n",
    "import numpy as np\n",
    "\n",
    "from collections import Counter\n",
    "\n",
    "import seaborn as sns\n",
    "import matplotlib.pyplot as plt\n",
    "import plotly.express as px\n",
    "\n",
    "from nltk.util import bigrams, trigrams\n",
    "from nltk.probability import FreqDist\n",
    "\n",
    "from sklearn.linear_model import LogisticRegression\n",
    "from sklearn.metrics import accuracy_score\n",
    "from sklearn.utils.class_weight import compute_class_weight\n",
    "from sklearn.model_selection import train_test_split, GridSearchCV\n",
    "from sklearn.ensemble import RandomForestClassifier\n",
    "from sklearn.metrics import accuracy_score, classification_report\n",
    "from sklearn.metrics import roc_auc_score, roc_curve\n",
    "from sklearn.metrics import confusion_matrix\n",
    "\n",
    "\n",
    "pd.set_option('display.max_rows', None)\n",
    "pd.set_option('display.max_columns', None)\n",
    "pd.set_option('display.max_colwidth', None)\n",
    "pd.options.display.max_columns=None\n",
    "pd.options.mode.chained_assignment = None"
   ]
  },
  {
   "cell_type": "code",
   "execution_count": 2,
   "metadata": {},
   "outputs": [],
   "source": [
    "# загружаю новые статьи\n",
    "new_articles = pd.read_json('C:/Users/a.safonov/future_world/parsed_articles_new/article_content_mdpi_full3.json', orient='records')"
   ]
  },
  {
   "cell_type": "code",
   "execution_count": 3,
   "metadata": {},
   "outputs": [
    {
     "name": "stdout",
     "output_type": "stream",
     "text": [
      "<class 'pandas.core.frame.DataFrame'>\n",
      "RangeIndex: 6289 entries, 0 to 6288\n",
      "Data columns (total 3 columns):\n",
      " #   Column  Non-Null Count  Dtype \n",
      "---  ------  --------------  ----- \n",
      " 0   link    6289 non-null   object\n",
      " 1   full    6289 non-null   object\n",
      " 2   dates   6289 non-null   object\n",
      "dtypes: object(3)\n",
      "memory usage: 147.5+ KB\n"
     ]
    }
   ],
   "source": [
    "new_articles.info()"
   ]
  },
  {
   "cell_type": "code",
   "execution_count": 4,
   "metadata": {},
   "outputs": [
    {
     "data": {
      "text/html": [
       "<div>\n",
       "<style scoped>\n",
       "    .dataframe tbody tr th:only-of-type {\n",
       "        vertical-align: middle;\n",
       "    }\n",
       "\n",
       "    .dataframe tbody tr th {\n",
       "        vertical-align: top;\n",
       "    }\n",
       "\n",
       "    .dataframe thead th {\n",
       "        text-align: right;\n",
       "    }\n",
       "</style>\n",
       "<table border=\"1\" class=\"dataframe\">\n",
       "  <thead>\n",
       "    <tr style=\"text-align: right;\">\n",
       "      <th></th>\n",
       "      <th>link</th>\n",
       "      <th>dates</th>\n",
       "    </tr>\n",
       "  </thead>\n",
       "  <tbody>\n",
       "    <tr>\n",
       "      <th>0</th>\n",
       "      <td>/2079-7737/12/5/719</td>\n",
       "      <td>[Received: 28 April 2023, Accepted: 8 May 2023, Published: 15 May 2023]</td>\n",
       "    </tr>\n",
       "    <tr>\n",
       "      <th>1</th>\n",
       "      <td>/2304-6732/10/10/1090</td>\n",
       "      <td>[Received: 24 August 2023, Revised: 16 September 2023, Accepted: 25 September 2023, Published: 28 September 2023]</td>\n",
       "    </tr>\n",
       "    <tr>\n",
       "      <th>2</th>\n",
       "      <td>/1996-1944/16/18/6146</td>\n",
       "      <td>[Received: 17 August 2023, Revised: 3 September 2023, Accepted: 7 September 2023, Published: 10 September 2023]</td>\n",
       "    </tr>\n",
       "    <tr>\n",
       "      <th>3</th>\n",
       "      <td>/1996-1944/16/13/4569</td>\n",
       "      <td>[Received: 17 May 2023, Revised: 1 June 2023, Accepted: 1 June 2023, Published: 24 June 2023]</td>\n",
       "    </tr>\n",
       "    <tr>\n",
       "      <th>4</th>\n",
       "      <td>/1996-1944/16/11/4106</td>\n",
       "      <td>[Received: 7 October 2022, Revised: 29 October 2022, Accepted: 1 November 2022, Published: 31 May 2023]</td>\n",
       "    </tr>\n",
       "    <tr>\n",
       "      <th>5</th>\n",
       "      <td>/2304-6732/10/5/510</td>\n",
       "      <td>[Received: 17 March 2023, Revised: 21 April 2023, Accepted: 26 April 2023, Published: 27 April 2023]</td>\n",
       "    </tr>\n",
       "    <tr>\n",
       "      <th>6</th>\n",
       "      <td>/2076-3417/13/8/5132</td>\n",
       "      <td>[Received: 22 March 2023, Revised: 9 April 2023, Accepted: 18 April 2023, Published: 20 April 2023]</td>\n",
       "    </tr>\n",
       "    <tr>\n",
       "      <th>7</th>\n",
       "      <td>/2304-6732/10/4/447</td>\n",
       "      <td>[Received: 23 February 2023, Revised: 5 April 2023, Accepted: 9 April 2023, Published: 13 April 2023]</td>\n",
       "    </tr>\n",
       "    <tr>\n",
       "      <th>8</th>\n",
       "      <td>/1996-1944/16/7/2908</td>\n",
       "      <td>[Received: 25 January 2023, Revised: 22 March 2023, Accepted: 31 March 2023, Published: 6 April 2023]</td>\n",
       "    </tr>\n",
       "    <tr>\n",
       "      <th>9</th>\n",
       "      <td>/1424-8220/23/5/2784</td>\n",
       "      <td>[Received: 2 December 2022, Revised: 14 February 2023, Accepted: 23 February 2023, Published: 3 March 2023]</td>\n",
       "    </tr>\n",
       "  </tbody>\n",
       "</table>\n",
       "</div>"
      ],
      "text/plain": [
       "                    link  \\\n",
       "0    /2079-7737/12/5/719   \n",
       "1  /2304-6732/10/10/1090   \n",
       "2  /1996-1944/16/18/6146   \n",
       "3  /1996-1944/16/13/4569   \n",
       "4  /1996-1944/16/11/4106   \n",
       "5    /2304-6732/10/5/510   \n",
       "6   /2076-3417/13/8/5132   \n",
       "7    /2304-6732/10/4/447   \n",
       "8   /1996-1944/16/7/2908   \n",
       "9   /1424-8220/23/5/2784   \n",
       "\n",
       "                                                                                                               dates  \n",
       "0                                            [Received: 28 April 2023, Accepted: 8 May 2023, Published: 15 May 2023]  \n",
       "1  [Received: 24 August 2023, Revised: 16 September 2023, Accepted: 25 September 2023, Published: 28 September 2023]  \n",
       "2    [Received: 17 August 2023, Revised: 3 September 2023, Accepted: 7 September 2023, Published: 10 September 2023]  \n",
       "3                      [Received: 17 May 2023, Revised: 1 June 2023, Accepted: 1 June 2023, Published: 24 June 2023]  \n",
       "4            [Received: 7 October 2022, Revised: 29 October 2022, Accepted: 1 November 2022, Published: 31 May 2023]  \n",
       "5               [Received: 17 March 2023, Revised: 21 April 2023, Accepted: 26 April 2023, Published: 27 April 2023]  \n",
       "6                [Received: 22 March 2023, Revised: 9 April 2023, Accepted: 18 April 2023, Published: 20 April 2023]  \n",
       "7              [Received: 23 February 2023, Revised: 5 April 2023, Accepted: 9 April 2023, Published: 13 April 2023]  \n",
       "8              [Received: 25 January 2023, Revised: 22 March 2023, Accepted: 31 March 2023, Published: 6 April 2023]  \n",
       "9        [Received: 2 December 2022, Revised: 14 February 2023, Accepted: 23 February 2023, Published: 3 March 2023]  "
      ]
     },
     "execution_count": 4,
     "metadata": {},
     "output_type": "execute_result"
    }
   ],
   "source": [
    "new_articles[['link','dates']].head(10)"
   ]
  },
  {
   "cell_type": "code",
   "execution_count": 5,
   "metadata": {},
   "outputs": [],
   "source": [
    "# Извлечение даты Published \n",
    "new_articles['dates'] = new_articles['dates'].apply(lambda x: ' '.join(map(str, x)))"
   ]
  },
  {
   "cell_type": "code",
   "execution_count": 6,
   "metadata": {},
   "outputs": [],
   "source": [
    "\n",
    "def extract_published_date(text):\n",
    "    match = re.search(r'Published: (\\d+ \\w+ \\d+)', text)\n",
    "    return match.group(1) if match else None\n",
    "\n",
    "new_articles['published_date'] = new_articles['dates'].apply(extract_published_date)\n"
   ]
  },
  {
   "cell_type": "code",
   "execution_count": 7,
   "metadata": {},
   "outputs": [],
   "source": [
    "\n",
    "# Разделение даты на месяц и год\n",
    "new_articles[['day', 'month', 'year']] = new_articles['published_date'].str.split(expand=True)\n",
    "\n",
    "new_articles.drop(['published_date','day'], axis=1, inplace=True)"
   ]
  },
  {
   "cell_type": "code",
   "execution_count": 8,
   "metadata": {},
   "outputs": [],
   "source": [
    "new_articles_for_merge=new_articles[['year','full']]"
   ]
  },
  {
   "cell_type": "code",
   "execution_count": 9,
   "metadata": {},
   "outputs": [],
   "source": [
    "# объединяю полные тексты статей\n",
    "abstracts_doaj_mdpi = pd.read_json('C:/Users/a.safonov/future_world/abstracts_doaj.json', orient='records')\n"
   ]
  },
  {
   "cell_type": "code",
   "execution_count": 10,
   "metadata": {},
   "outputs": [],
   "source": [
    "abstracts_doaj_mdpi ['date'] = abstracts_doaj_mdpi ['source'].str.extract(r'(\\b\\w+ \\d{4})')"
   ]
  },
  {
   "cell_type": "code",
   "execution_count": 11,
   "metadata": {},
   "outputs": [],
   "source": [
    "abstracts_doaj_mdpi[['month', 'year']] = abstracts_doaj_mdpi['date'].str.split(expand=True)"
   ]
  },
  {
   "cell_type": "code",
   "execution_count": 12,
   "metadata": {},
   "outputs": [
    {
     "name": "stdout",
     "output_type": "stream",
     "text": [
      "<class 'pandas.core.frame.DataFrame'>\n",
      "Index: 9726 entries, 0 to 9948\n",
      "Data columns (total 4 columns):\n",
      " #   Column  Non-Null Count  Dtype \n",
      "---  ------  --------------  ----- \n",
      " 0   title   9726 non-null   object\n",
      " 1   month   9726 non-null   object\n",
      " 2   year    9726 non-null   object\n",
      " 3   link    9726 non-null   object\n",
      "dtypes: object(4)\n",
      "memory usage: 379.9+ KB\n"
     ]
    }
   ],
   "source": [
    "\n",
    "# датафрейм: ссылки и дата\n",
    "abstract_link_year_df=abstracts_doaj_mdpi[['title','month','year','link']]\n",
    "abstract_link_year_df=abstract_link_year_df.drop_duplicates(['link'])\n",
    "abstract_link_year_df=abstract_link_year_df.dropna()\n",
    "abstract_link_year_df.info()\n"
   ]
  },
  {
   "cell_type": "code",
   "execution_count": 13,
   "metadata": {},
   "outputs": [],
   "source": [
    "\n",
    "# загружаю и склеиваю все тексты статей\n",
    "full_doaj_mdpi = pd.read_json('C:/Users/a.safonov/future_world/article_content_doaj_mdpi_full2.json', orient='records')\n",
    "full_doaj_front = pd.read_json('C:/Users/a.safonov/future_world/article_content_doaj_front_full2.json', orient='records')\n",
    "full_doaj_dovepress = pd.read_json('C:/Users/a.safonov/future_world/article_content_doaj_dovepress_full2.json', orient='records')\n",
    "full_doaj_mfd=pd.concat([full_doaj_mdpi,full_doaj_front,full_doaj_dovepress])\n",
    "full_doaj_mfd=full_doaj_mfd.drop_duplicates(['link'])\n"
   ]
  },
  {
   "cell_type": "code",
   "execution_count": 14,
   "metadata": {},
   "outputs": [],
   "source": [
    "\n",
    "# добавляю к статьям год\n",
    "full_doaj=pd.merge(full_doaj_mfd,abstract_link_year_df,how='left',on='link')\n",
    "full_doaj=full_doaj[['title','month','year','full']]"
   ]
  },
  {
   "cell_type": "code",
   "execution_count": 15,
   "metadata": {},
   "outputs": [],
   "source": [
    "full_doaj_for_merge=full_doaj[['year','full']]\n",
    "#new_articles_for_merge"
   ]
  },
  {
   "cell_type": "code",
   "execution_count": 16,
   "metadata": {},
   "outputs": [],
   "source": [
    "# объединияю с новыми статьями \n",
    "full_doaj=pd.concat([full_doaj_for_merge,new_articles_for_merge])"
   ]
  },
  {
   "cell_type": "code",
   "execution_count": 17,
   "metadata": {},
   "outputs": [
    {
     "name": "stdout",
     "output_type": "stream",
     "text": [
      "<class 'pandas.core.frame.DataFrame'>\n",
      "Index: 8555 entries, 0 to 6288\n",
      "Data columns (total 2 columns):\n",
      " #   Column  Non-Null Count  Dtype \n",
      "---  ------  --------------  ----- \n",
      " 0   year    8555 non-null   object\n",
      " 1   full    8555 non-null   object\n",
      "dtypes: object(2)\n",
      "memory usage: 200.5+ KB\n"
     ]
    }
   ],
   "source": [
    "full_doaj=full_doaj.dropna()\n",
    "full_doaj.info()"
   ]
  },
  {
   "cell_type": "code",
   "execution_count": 18,
   "metadata": {},
   "outputs": [
    {
     "data": {
      "text/plain": [
       "year\n",
       "2023    4837\n",
       "2022    2380\n",
       "2021     589\n",
       "2020     283\n",
       "2019     162\n",
       "Name: count, dtype: int64"
      ]
     },
     "execution_count": 18,
     "metadata": {},
     "output_type": "execute_result"
    }
   ],
   "source": [
    "# оставляю данные начиная с 19 года\n",
    "years19=['2019','2020','2021','2022','2023']\n",
    "full_doaj=full_doaj.query('year in @years19')\n",
    "full_doaj['year'].value_counts()"
   ]
  },
  {
   "cell_type": "code",
   "execution_count": 19,
   "metadata": {},
   "outputs": [],
   "source": [
    "# перевожу каждую статью в строку, то есть перевожу элементы списка в одну строку\n",
    "full_doaj['full'] = full_doaj['full'].apply(lambda x: ' '.join(map(str, x)))"
   ]
  },
  {
   "cell_type": "code",
   "execution_count": null,
   "metadata": {},
   "outputs": [],
   "source": []
  },
  {
   "cell_type": "code",
   "execution_count": 20,
   "metadata": {},
   "outputs": [],
   "source": [
    "full_doaj['full']=full_doaj['full'].str.lower()\n",
    "# full_doaj['month']=full_doaj['month'].str.lower()"
   ]
  },
  {
   "cell_type": "code",
   "execution_count": null,
   "metadata": {},
   "outputs": [],
   "source": []
  },
  {
   "cell_type": "code",
   "execution_count": 21,
   "metadata": {},
   "outputs": [],
   "source": [
    "# очищаю тексты\n",
    "common_words = [\n",
    "    'in', 'on', 'at', 'under', 'over', 'through', 'with', 'without', 'to', 'for',\n",
    "    'by', 'from', 'between', 'among',\n",
    "    'and', 'but', 'or', 'so', 'because', 'although', 'while', 'if', 'when', 'as',\n",
    "    'i', 'you', 'he', 'she', 'it', 'we', 'they',\n",
    "    'my', 'your', 'his', 'her', 'its', 'our', 'their',\n",
    "    'this', 'that', 'these', 'those',\n",
    "    'must', 'have', 'do',\n",
    "    'say', 'get', 'make', 'go', 'know', 'take', 'see', 'come', 'think', 'look', 'want',\n",
    "    'give', 'use', 'find', 'tell', 'ask', 'work', 'seem', 'feel', 'try', 'leave', 'call',\n",
    "    'table', 'chair', 'book', 'house', 'car', 'friend', 'family', 'time', 'way', 'day',\n",
    "    'man', 'woman', 'child', 'money', 'job', 'place', 'food', 'water', 'air', 'life',\n",
    "    'is', 'are', 'could', 'make', 'was', 'were', 'have', 'has', 'had', 'do', 'does',\n",
    "    'such', 'this', 'these', 'that', 'those', 'itself', 'myself', 'yourself', 'himself', 'herself',\n",
    "    'oneself', 'themselves', 'each', 'other', 'what', 'which', 'who', 'whom', 'where', 'whose',\n",
    "    'whichever', 'whoever', 'whomever', 'whatever',\n",
    "    'more', 'most', 'less', 'least',\n",
    "    'one', 'two', 'three', 'four', 'five', 'six', 'seven', 'eight', 'nine', 'ten',\n",
    "    'first', 'second', 'third', 'fourth', 'fifth', 'sixth', 'seventh', 'eighth', 'ninth', 'tenth',\n",
    "    'am', 'is', 'are', 'was', 'were', 'been', 'being',\n",
    "    'have', 'has', 'had', 'having',\n",
    "    'do', 'does', 'did', 'doing',\n",
    "    'can', 'could',\n",
    "    'will', 'shall', 'would', 'should',\n",
    "    'may', 'might', 'must',\n",
    "    'go', 'went', 'gone', 'going',\n",
    "    'make', 'made', 'making',\n",
    "    'take', 'took', 'taken', 'taking',\n",
    "    'find', 'found', 'finding',\n",
    "    'say', 'said', 'saying',\n",
    "    'get', 'got', 'gotten', 'getting',\n",
    "    'run', 'ran', 'running',\n",
    "    'sing', 'sang', 'sung', 'singing',\n",
    "    'child', 'children',\n",
    "    'man', 'men',\n",
    "    'woman', 'women',\n",
    "    'person', 'people',\n",
    "    'mouse', 'mice',\n",
    "    'foot', 'feet',\n",
    "    'goose', 'geese',\n",
    "    'tooth', 'teeth',\n",
    "    'child', 'children',\n",
    "    'this', 'these', 'those',\n",
    "    'that', 'those',\n",
    "    'itself', 'themselves',\n",
    "    'each', 'others', 'whats', 'whiches', 'whos', 'whoms', 'wheres', 'whoses',\n",
    "    'whichever', 'whoever', 'whomever', 'whatever','the',\n",
    "    \"all\", \"publications\", \"review\", \"reviews\", \"authors\", \"articles\", \"participants\", \"also\",\n",
    "    \"current\", \"sample\", \"scopus\", \"cited\"\n",
    "]"
   ]
  },
  {
   "cell_type": "code",
   "execution_count": null,
   "metadata": {},
   "outputs": [],
   "source": []
  },
  {
   "cell_type": "code",
   "execution_count": 22,
   "metadata": {},
   "outputs": [],
   "source": [
    "\n",
    "def cleaning_full(row):\n",
    "    text=row[1]\n",
    "    \n",
    "    # Удаление символов, состоящих из 2 или менее знаков\n",
    "    pattern_2 = r'\\b\\w{1,2}\\b'\n",
    "    text = re.sub(pattern_2, '', text)\n",
    "\n",
    "    text = re.sub(r'\\n', '', text)\n",
    "\n",
    "    # удаляем общеупотребимые слова\n",
    "    pattern_common = r'\\b(?:' + '|'.join(re.escape(word) for word in common_words) + r')\\b'\n",
    "    text = re.sub(pattern_common, '', text, flags=re.IGNORECASE)\n",
    "\n",
    "    # Удаление знаков препинания\n",
    "    text = re.sub(r'[^\\w\\s]', '', text)\n",
    "\n",
    "    # Удаление кусков HTML кода (если они представлены в угловых скобках)\n",
    "    text = re.sub(r'<[^>]+>', '', text)\n",
    "\n",
    "    # удаление лишних пробелов\n",
    "    text = re.sub(r'\\s+', ' ', text)\n",
    "\n",
    "    return text\n"
   ]
  },
  {
   "cell_type": "code",
   "execution_count": 23,
   "metadata": {},
   "outputs": [],
   "source": [
    "\n",
    "full_doaj['full']=full_doaj.apply(cleaning_full,axis=1)"
   ]
  },
  {
   "cell_type": "code",
   "execution_count": 24,
   "metadata": {},
   "outputs": [
    {
     "name": "stdout",
     "output_type": "stream",
     "text": [
      "<class 'pandas.core.frame.DataFrame'>\n",
      "Index: 8251 entries, 0 to 6288\n",
      "Data columns (total 3 columns):\n",
      " #   Column            Non-Null Count  Dtype \n",
      "---  ------            --------------  ----- \n",
      " 0   year              8251 non-null   object\n",
      " 1   full              8251 non-null   object\n",
      " 2   article_trigrams  8251 non-null   object\n",
      "dtypes: object(3)\n",
      "memory usage: 257.8+ KB\n"
     ]
    }
   ],
   "source": [
    "# разбиваю каждую статью на триграммы \n",
    "def articles_trigrams(row):\n",
    "    text=row['full']\n",
    "    art_words = text.lower().split()\n",
    "    article_trigram = list(trigrams(art_words))\n",
    "    trigram_strings = [' '.join(trigram) for trigram in article_trigram]\n",
    "    return trigram_strings\n",
    "\n",
    "full_doaj['article_trigrams']= full_doaj.apply(articles_trigrams,axis=1)\n",
    "\n",
    "full_doaj.info()   \n",
    "    "
   ]
  },
  {
   "cell_type": "code",
   "execution_count": 25,
   "metadata": {},
   "outputs": [],
   "source": [
    "# все статьи в формате str\n",
    "# триграммы для каждой статью представляют собой список, где каждая триграмма элемент списка "
   ]
  },
  {
   "cell_type": "code",
   "execution_count": 26,
   "metadata": {},
   "outputs": [],
   "source": [
    "# суммирую все тексты по годам\n",
    "full_doaj_years=pd.pivot_table(full_doaj,\n",
    "               index=['year'],\n",
    "               values=['article_trigrams'],\n",
    "               aggfunc=sum).reset_index()"
   ]
  },
  {
   "cell_type": "code",
   "execution_count": 27,
   "metadata": {},
   "outputs": [],
   "source": [
    "# считаю сколько статей по каждому году\n",
    "full_doaj_articles=pd.pivot_table(full_doaj,\n",
    "               index=['year'],\n",
    "               values=['full'],\n",
    "               aggfunc='count').reset_index()\n",
    "full_doaj_articles.columns=['year','articles_for_year']\n",
    "full_doaj_years=pd.merge(full_doaj_years,full_doaj_articles, on='year', how='left')"
   ]
  },
  {
   "cell_type": "code",
   "execution_count": 28,
   "metadata": {},
   "outputs": [
    {
     "name": "stdout",
     "output_type": "stream",
     "text": [
      "<class 'pandas.core.frame.DataFrame'>\n",
      "RangeIndex: 5 entries, 0 to 4\n",
      "Data columns (total 3 columns):\n",
      " #   Column             Non-Null Count  Dtype \n",
      "---  ------             --------------  ----- \n",
      " 0   year               5 non-null      object\n",
      " 1   article_trigrams   5 non-null      object\n",
      " 2   articles_for_year  5 non-null      int64 \n",
      "dtypes: int64(1), object(2)\n",
      "memory usage: 252.0+ bytes\n"
     ]
    }
   ],
   "source": [
    "full_doaj_years.info()"
   ]
  },
  {
   "cell_type": "code",
   "execution_count": 29,
   "metadata": {},
   "outputs": [],
   "source": [
    "# full_doaj_years\n",
    "# article_trigrams - список триграмм по каждому году в нижнем регистре, где каждый элемент списка одна триграмма\n",
    "# articles_for_year - количество статей за год "
   ]
  },
  {
   "cell_type": "code",
   "execution_count": 30,
   "metadata": {},
   "outputs": [],
   "source": [
    "# Создайте пустой датафрейм для триграмм\n",
    "trigram_result_df = pd.DataFrame()\n",
    "\n",
    "# Проход по строкам датафрейма full_doaj_mfd_2015\n",
    "for index, row in full_doaj_years.iterrows():\n",
    "    year = row[0]\n",
    "    trigram_list = row[1] # список уже готовых триграмм\n",
    "    articles_number=row[2]\n",
    "\n",
    "    # Создание счетчика для подсчета количества каждой триграммы\n",
    "    trigram_counter = FreqDist(trigram_list)\n",
    "    \n",
    "    trigram_df = pd.DataFrame({\n",
    "        'trigram': list(trigram_counter.keys()),\n",
    "        'trigram_count{}'.format(year): trigram_counter.values(),\n",
    "        #'trigrams_all{}'.format(year): len(trigram_list),\n",
    "        #'article_count{}'.format(year): [0] * len(trigram_counter.values()),\n",
    "        #'articles_all{}'.format(year): articles_number\n",
    "    })\n",
    "    # Объедините датафреймы по триграммам в общий датафрейм\n",
    "    if trigram_result_df.empty:\n",
    "        trigram_result_df = trigram_df\n",
    "    else:\n",
    "        trigram_result_df = trigram_result_df.merge(trigram_df, on='trigram', how='outer')"
   ]
  },
  {
   "cell_type": "code",
   "execution_count": 31,
   "metadata": {},
   "outputs": [],
   "source": [
    "trigram_result_df = trigram_result_df.fillna(0)"
   ]
  },
  {
   "cell_type": "code",
   "execution_count": 32,
   "metadata": {},
   "outputs": [
    {
     "name": "stdout",
     "output_type": "stream",
     "text": [
      "<class 'pandas.core.frame.DataFrame'>\n",
      "RangeIndex: 9466581 entries, 0 to 9466580\n",
      "Data columns (total 6 columns):\n",
      " #   Column             Dtype  \n",
      "---  ------             -----  \n",
      " 0   trigram            object \n",
      " 1   trigram_count2019  float64\n",
      " 2   trigram_count2020  float64\n",
      " 3   trigram_count2021  float64\n",
      " 4   trigram_count2022  float64\n",
      " 5   trigram_count2023  float64\n",
      "dtypes: float64(5), object(1)\n",
      "memory usage: 433.3+ MB\n"
     ]
    }
   ],
   "source": [
    "trigram_result_df.info()"
   ]
  },
  {
   "cell_type": "code",
   "execution_count": 33,
   "metadata": {},
   "outputs": [],
   "source": [
    "trigram_result_df['trigram_count']=trigram_result_df['trigram_count2019']+trigram_result_df['trigram_count2020']+trigram_result_df['trigram_count2021']+trigram_result_df['trigram_count2022']+trigram_result_df['trigram_count2023']"
   ]
  },
  {
   "cell_type": "code",
   "execution_count": 34,
   "metadata": {},
   "outputs": [],
   "source": [
    "trigram_result_df_10=trigram_result_df.query('trigram_count>=10')"
   ]
  },
  {
   "cell_type": "code",
   "execution_count": 36,
   "metadata": {},
   "outputs": [],
   "source": [
    "# создание признака - количество статей по году в которые входит каждая триграмма"
   ]
  },
  {
   "cell_type": "code",
   "execution_count": 37,
   "metadata": {},
   "outputs": [],
   "source": [
    "full_doaj=full_doaj.reset_index(drop=True)"
   ]
  },
  {
   "cell_type": "code",
   "execution_count": 38,
   "metadata": {},
   "outputs": [
    {
     "name": "stdout",
     "output_type": "stream",
     "text": [
      "<class 'pandas.core.frame.DataFrame'>\n",
      "RangeIndex: 8251 entries, 0 to 8250\n",
      "Data columns (total 3 columns):\n",
      " #   Column            Non-Null Count  Dtype \n",
      "---  ------            --------------  ----- \n",
      " 0   year              8251 non-null   object\n",
      " 1   full              8251 non-null   object\n",
      " 2   article_trigrams  8251 non-null   object\n",
      "dtypes: object(3)\n",
      "memory usage: 193.5+ KB\n"
     ]
    }
   ],
   "source": [
    "full_doaj.info()"
   ]
  },
  {
   "cell_type": "code",
   "execution_count": 39,
   "metadata": {},
   "outputs": [],
   "source": [
    "# датафрейм, в котором только год и текст статьи, разбитый на триграммы \n",
    "full_doaj_for_counting_articles=full_doaj[['year','article_trigrams']]\n",
    "full_doaj_for_counting_articles['year'] = full_doaj_for_counting_articles['year'].astype(int)"
   ]
  },
  {
   "cell_type": "code",
   "execution_count": 40,
   "metadata": {},
   "outputs": [],
   "source": [
    "dlgf=full_doaj_for_counting_articles.loc[1,'article_trigrams']"
   ]
  },
  {
   "cell_type": "code",
   "execution_count": 41,
   "metadata": {},
   "outputs": [],
   "source": [
    "# Развернем списки в столбце 'article_trigrams' в отдельные строки, где индекс указывает на статью которой принадлежит данная триграмма \n",
    "full_doaj_expanded = full_doaj_for_counting_articles.explode('article_trigrams').reset_index(names='article_mark')\n"
   ]
  },
  {
   "cell_type": "code",
   "execution_count": 42,
   "metadata": {},
   "outputs": [
    {
     "data": {
      "text/html": [
       "<div>\n",
       "<style scoped>\n",
       "    .dataframe tbody tr th:only-of-type {\n",
       "        vertical-align: middle;\n",
       "    }\n",
       "\n",
       "    .dataframe tbody tr th {\n",
       "        vertical-align: top;\n",
       "    }\n",
       "\n",
       "    .dataframe thead th {\n",
       "        text-align: right;\n",
       "    }\n",
       "</style>\n",
       "<table border=\"1\" class=\"dataframe\">\n",
       "  <thead>\n",
       "    <tr style=\"text-align: right;\">\n",
       "      <th></th>\n",
       "      <th>article_mark</th>\n",
       "      <th>year</th>\n",
       "      <th>article_trigrams</th>\n",
       "    </tr>\n",
       "  </thead>\n",
       "  <tbody>\n",
       "    <tr>\n",
       "      <th>0</th>\n",
       "      <td>0</td>\n",
       "      <td>2023</td>\n",
       "      <td>given massive increase</td>\n",
       "    </tr>\n",
       "    <tr>\n",
       "      <th>1</th>\n",
       "      <td>0</td>\n",
       "      <td>2023</td>\n",
       "      <td>massive increase vehicle</td>\n",
       "    </tr>\n",
       "    <tr>\n",
       "      <th>2</th>\n",
       "      <td>0</td>\n",
       "      <td>2023</td>\n",
       "      <td>increase vehicle traffic</td>\n",
       "    </tr>\n",
       "    <tr>\n",
       "      <th>3</th>\n",
       "      <td>0</td>\n",
       "      <td>2023</td>\n",
       "      <td>vehicle traffic worldwide</td>\n",
       "    </tr>\n",
       "    <tr>\n",
       "      <th>4</th>\n",
       "      <td>0</td>\n",
       "      <td>2023</td>\n",
       "      <td>traffic worldwide issues</td>\n",
       "    </tr>\n",
       "    <tr>\n",
       "      <th>5</th>\n",
       "      <td>0</td>\n",
       "      <td>2023</td>\n",
       "      <td>worldwide issues road</td>\n",
       "    </tr>\n",
       "    <tr>\n",
       "      <th>6</th>\n",
       "      <td>0</td>\n",
       "      <td>2023</td>\n",
       "      <td>issues road safety</td>\n",
       "    </tr>\n",
       "    <tr>\n",
       "      <th>7</th>\n",
       "      <td>0</td>\n",
       "      <td>2023</td>\n",
       "      <td>road safety traffic</td>\n",
       "    </tr>\n",
       "    <tr>\n",
       "      <th>8</th>\n",
       "      <td>0</td>\n",
       "      <td>2023</td>\n",
       "      <td>safety traffic congestion</td>\n",
       "    </tr>\n",
       "    <tr>\n",
       "      <th>9</th>\n",
       "      <td>0</td>\n",
       "      <td>2023</td>\n",
       "      <td>traffic congestion emissions</td>\n",
       "    </tr>\n",
       "  </tbody>\n",
       "</table>\n",
       "</div>"
      ],
      "text/plain": [
       "   article_mark  year              article_trigrams\n",
       "0             0  2023        given massive increase\n",
       "1             0  2023      massive increase vehicle\n",
       "2             0  2023      increase vehicle traffic\n",
       "3             0  2023     vehicle traffic worldwide\n",
       "4             0  2023      traffic worldwide issues\n",
       "5             0  2023         worldwide issues road\n",
       "6             0  2023            issues road safety\n",
       "7             0  2023           road safety traffic\n",
       "8             0  2023     safety traffic congestion\n",
       "9             0  2023  traffic congestion emissions"
      ]
     },
     "execution_count": 42,
     "metadata": {},
     "output_type": "execute_result"
    }
   ],
   "source": [
    "full_doaj_expanded.head(10)"
   ]
  },
  {
   "cell_type": "code",
   "execution_count": 43,
   "metadata": {},
   "outputs": [
    {
     "data": {
      "text/plain": [
       "8251"
      ]
     },
     "execution_count": 43,
     "metadata": {},
     "output_type": "execute_result"
    }
   ],
   "source": [
    "len(full_doaj_expanded['article_mark'].unique())"
   ]
  },
  {
   "cell_type": "code",
   "execution_count": 44,
   "metadata": {},
   "outputs": [],
   "source": [
    "trigram_counts_by_year=pd.pivot_table(full_doaj_expanded,\n",
    "               index=['article_trigrams'],\n",
    "               values=['article_mark'],\n",
    "               columns=['year'],\n",
    "               aggfunc=[lambda x:len(x.unique())],\n",
    "               fill_value=0).reset_index()"
   ]
  },
  {
   "cell_type": "code",
   "execution_count": 45,
   "metadata": {},
   "outputs": [
    {
     "data": {
      "text/html": [
       "<div>\n",
       "<style scoped>\n",
       "    .dataframe tbody tr th:only-of-type {\n",
       "        vertical-align: middle;\n",
       "    }\n",
       "\n",
       "    .dataframe tbody tr th {\n",
       "        vertical-align: top;\n",
       "    }\n",
       "\n",
       "    .dataframe thead tr th {\n",
       "        text-align: left;\n",
       "    }\n",
       "</style>\n",
       "<table border=\"1\" class=\"dataframe\">\n",
       "  <thead>\n",
       "    <tr>\n",
       "      <th></th>\n",
       "      <th>article_trigrams</th>\n",
       "      <th colspan=\"5\" halign=\"left\">&lt;lambda&gt;</th>\n",
       "    </tr>\n",
       "    <tr>\n",
       "      <th></th>\n",
       "      <th></th>\n",
       "      <th colspan=\"5\" halign=\"left\">article_mark</th>\n",
       "    </tr>\n",
       "    <tr>\n",
       "      <th>year</th>\n",
       "      <th></th>\n",
       "      <th>2019</th>\n",
       "      <th>2020</th>\n",
       "      <th>2021</th>\n",
       "      <th>2022</th>\n",
       "      <th>2023</th>\n",
       "    </tr>\n",
       "  </thead>\n",
       "  <tbody>\n",
       "    <tr>\n",
       "      <th>0</th>\n",
       "      <td>000 000 000</td>\n",
       "      <td>1</td>\n",
       "      <td>0</td>\n",
       "      <td>0</td>\n",
       "      <td>1</td>\n",
       "      <td>1</td>\n",
       "    </tr>\n",
       "  </tbody>\n",
       "</table>\n",
       "</div>"
      ],
      "text/plain": [
       "     article_trigrams     <lambda>                    \n",
       "                      article_mark                    \n",
       "year                          2019 2020 2021 2022 2023\n",
       "0         000 000 000            1    0    0    1    1"
      ]
     },
     "execution_count": 45,
     "metadata": {},
     "output_type": "execute_result"
    }
   ],
   "source": [
    "trigram_counts_by_year.head(1)"
   ]
  },
  {
   "cell_type": "code",
   "execution_count": 46,
   "metadata": {},
   "outputs": [],
   "source": [
    "years=['2019','2020','2021','2022','2023']"
   ]
  },
  {
   "cell_type": "code",
   "execution_count": 47,
   "metadata": {},
   "outputs": [
    {
     "data": {
      "text/html": [
       "<div>\n",
       "<style scoped>\n",
       "    .dataframe tbody tr th:only-of-type {\n",
       "        vertical-align: middle;\n",
       "    }\n",
       "\n",
       "    .dataframe tbody tr th {\n",
       "        vertical-align: top;\n",
       "    }\n",
       "\n",
       "    .dataframe thead th {\n",
       "        text-align: right;\n",
       "    }\n",
       "</style>\n",
       "<table border=\"1\" class=\"dataframe\">\n",
       "  <thead>\n",
       "    <tr style=\"text-align: right;\">\n",
       "      <th></th>\n",
       "      <th>trigram</th>\n",
       "      <th>article_count2019</th>\n",
       "      <th>article_count2020</th>\n",
       "      <th>article_count2021</th>\n",
       "      <th>article_count2022</th>\n",
       "      <th>article_count2023</th>\n",
       "    </tr>\n",
       "  </thead>\n",
       "  <tbody>\n",
       "    <tr>\n",
       "      <th>6374467</th>\n",
       "      <td>potential conflict interest</td>\n",
       "      <td>56</td>\n",
       "      <td>54</td>\n",
       "      <td>145</td>\n",
       "      <td>252</td>\n",
       "      <td>233</td>\n",
       "    </tr>\n",
       "    <tr>\n",
       "      <th>586451</th>\n",
       "      <td>any commercial financial</td>\n",
       "      <td>56</td>\n",
       "      <td>54</td>\n",
       "      <td>144</td>\n",
       "      <td>244</td>\n",
       "      <td>223</td>\n",
       "    </tr>\n",
       "  </tbody>\n",
       "</table>\n",
       "</div>"
      ],
      "text/plain": [
       "                             trigram  article_count2019  article_count2020  \\\n",
       "6374467  potential conflict interest                 56                 54   \n",
       "586451      any commercial financial                 56                 54   \n",
       "\n",
       "         article_count2021  article_count2022  article_count2023  \n",
       "6374467                145                252                233  \n",
       "586451                 144                244                223  "
      ]
     },
     "execution_count": 47,
     "metadata": {},
     "output_type": "execute_result"
    }
   ],
   "source": [
    "trigram_counts_by_year.columns = ['trigram'] + [f'article_count{year}' for year in years]\n",
    "\n",
    "trigram_counts_by_year.sort_values(['article_count2019', 'article_count2020','article_count2021','article_count2022','article_count2023'],ascending=False).head(2)"
   ]
  },
  {
   "cell_type": "code",
   "execution_count": 48,
   "metadata": {},
   "outputs": [
    {
     "name": "stdout",
     "output_type": "stream",
     "text": [
      "<class 'pandas.core.frame.DataFrame'>\n",
      "RangeIndex: 9466581 entries, 0 to 9466580\n",
      "Data columns (total 6 columns):\n",
      " #   Column             Dtype \n",
      "---  ------             ----- \n",
      " 0   trigram            object\n",
      " 1   article_count2019  int64 \n",
      " 2   article_count2020  int64 \n",
      " 3   article_count2021  int64 \n",
      " 4   article_count2022  int64 \n",
      " 5   article_count2023  int64 \n",
      "dtypes: int64(5), object(1)\n",
      "memory usage: 433.3+ MB\n"
     ]
    }
   ],
   "source": [
    "trigram_counts_by_year.info()"
   ]
  },
  {
   "cell_type": "code",
   "execution_count": 49,
   "metadata": {},
   "outputs": [
    {
     "name": "stdout",
     "output_type": "stream",
     "text": [
      "<class 'pandas.core.frame.DataFrame'>\n",
      "Index: 15853 entries, 6 to 9449778\n",
      "Data columns (total 7 columns):\n",
      " #   Column             Non-Null Count  Dtype  \n",
      "---  ------             --------------  -----  \n",
      " 0   trigram            15853 non-null  object \n",
      " 1   trigram_count2019  15853 non-null  float64\n",
      " 2   trigram_count2020  15853 non-null  float64\n",
      " 3   trigram_count2021  15853 non-null  float64\n",
      " 4   trigram_count2022  15853 non-null  float64\n",
      " 5   trigram_count2023  15853 non-null  float64\n",
      " 6   trigram_count      15853 non-null  float64\n",
      "dtypes: float64(6), object(1)\n",
      "memory usage: 990.8+ KB\n"
     ]
    }
   ],
   "source": [
    "trigram_result_df_10.info()"
   ]
  },
  {
   "cell_type": "code",
   "execution_count": 50,
   "metadata": {},
   "outputs": [],
   "source": [
    "# Объединим данные\n",
    "trigram_article_count = pd.merge(trigram_result_df, trigram_counts_by_year, on='trigram', how='left')"
   ]
  },
  {
   "cell_type": "code",
   "execution_count": 51,
   "metadata": {},
   "outputs": [
    {
     "name": "stdout",
     "output_type": "stream",
     "text": [
      "<class 'pandas.core.frame.DataFrame'>\n",
      "RangeIndex: 9466581 entries, 0 to 9466580\n",
      "Data columns (total 12 columns):\n",
      " #   Column             Dtype  \n",
      "---  ------             -----  \n",
      " 0   trigram            object \n",
      " 1   trigram_count2019  float64\n",
      " 2   trigram_count2020  float64\n",
      " 3   trigram_count2021  float64\n",
      " 4   trigram_count2022  float64\n",
      " 5   trigram_count2023  float64\n",
      " 6   trigram_count      float64\n",
      " 7   article_count2019  int64  \n",
      " 8   article_count2020  int64  \n",
      " 9   article_count2021  int64  \n",
      " 10  article_count2022  int64  \n",
      " 11  article_count2023  int64  \n",
      "dtypes: float64(6), int64(5), object(1)\n",
      "memory usage: 866.7+ MB\n"
     ]
    }
   ],
   "source": [
    "trigram_article_count.info()"
   ]
  },
  {
   "cell_type": "code",
   "execution_count": 52,
   "metadata": {},
   "outputs": [
    {
     "data": {
      "text/html": [
       "<div>\n",
       "<style scoped>\n",
       "    .dataframe tbody tr th:only-of-type {\n",
       "        vertical-align: middle;\n",
       "    }\n",
       "\n",
       "    .dataframe tbody tr th {\n",
       "        vertical-align: top;\n",
       "    }\n",
       "\n",
       "    .dataframe thead th {\n",
       "        text-align: right;\n",
       "    }\n",
       "</style>\n",
       "<table border=\"1\" class=\"dataframe\">\n",
       "  <thead>\n",
       "    <tr style=\"text-align: right;\">\n",
       "      <th></th>\n",
       "      <th>trigram</th>\n",
       "      <th>trigram_count2019</th>\n",
       "      <th>trigram_count2020</th>\n",
       "      <th>trigram_count2021</th>\n",
       "      <th>trigram_count2022</th>\n",
       "      <th>trigram_count2023</th>\n",
       "      <th>trigram_count</th>\n",
       "      <th>article_count2019</th>\n",
       "      <th>article_count2020</th>\n",
       "      <th>article_count2021</th>\n",
       "      <th>article_count2022</th>\n",
       "      <th>article_count2023</th>\n",
       "    </tr>\n",
       "  </thead>\n",
       "  <tbody>\n",
       "    <tr>\n",
       "      <th>60299</th>\n",
       "      <td>potential conflict interest</td>\n",
       "      <td>56.0</td>\n",
       "      <td>54.0</td>\n",
       "      <td>145.0</td>\n",
       "      <td>252.0</td>\n",
       "      <td>234.0</td>\n",
       "      <td>741.0</td>\n",
       "      <td>56</td>\n",
       "      <td>54</td>\n",
       "      <td>145</td>\n",
       "      <td>252</td>\n",
       "      <td>233</td>\n",
       "    </tr>\n",
       "  </tbody>\n",
       "</table>\n",
       "</div>"
      ],
      "text/plain": [
       "                           trigram  trigram_count2019  trigram_count2020  \\\n",
       "60299  potential conflict interest               56.0               54.0   \n",
       "\n",
       "       trigram_count2021  trigram_count2022  trigram_count2023  trigram_count  \\\n",
       "60299              145.0              252.0              234.0          741.0   \n",
       "\n",
       "       article_count2019  article_count2020  article_count2021  \\\n",
       "60299                 56                 54                145   \n",
       "\n",
       "       article_count2022  article_count2023  \n",
       "60299                252                233  "
      ]
     },
     "execution_count": 52,
     "metadata": {},
     "output_type": "execute_result"
    }
   ],
   "source": [
    "trigram_article_count.sort_values(['trigram_count2019', 'trigram_count2020','trigram_count2021','trigram_count2022','trigram_count2023'],ascending=False).head(1)"
   ]
  },
  {
   "cell_type": "code",
   "execution_count": 53,
   "metadata": {},
   "outputs": [],
   "source": [
    "# ДОБАВЛЯЮ КОЛИЧЕСТВО ТРИГРАММ И КОЛИЧЕСТВО СТАТЕЙ В КАЖДОМ ГОДУ "
   ]
  },
  {
   "cell_type": "code",
   "execution_count": 54,
   "metadata": {},
   "outputs": [
    {
     "name": "stdout",
     "output_type": "stream",
     "text": [
      "<class 'pandas.core.frame.DataFrame'>\n",
      "RangeIndex: 5 entries, 0 to 4\n",
      "Data columns (total 3 columns):\n",
      " #   Column             Non-Null Count  Dtype \n",
      "---  ------             --------------  ----- \n",
      " 0   year               5 non-null      object\n",
      " 1   article_trigrams   5 non-null      object\n",
      " 2   articles_for_year  5 non-null      int64 \n",
      "dtypes: int64(1), object(2)\n",
      "memory usage: 252.0+ bytes\n"
     ]
    }
   ],
   "source": [
    "full_doaj_years.info()"
   ]
  },
  {
   "cell_type": "code",
   "execution_count": 55,
   "metadata": {},
   "outputs": [],
   "source": [
    "full_doaj_years['articles_for_year_len']=full_doaj_years.apply(lambda x:len(x['article_trigrams']),axis=1)"
   ]
  },
  {
   "cell_type": "code",
   "execution_count": 56,
   "metadata": {},
   "outputs": [
    {
     "data": {
      "text/html": [
       "<div>\n",
       "<style scoped>\n",
       "    .dataframe tbody tr th:only-of-type {\n",
       "        vertical-align: middle;\n",
       "    }\n",
       "\n",
       "    .dataframe tbody tr th {\n",
       "        vertical-align: top;\n",
       "    }\n",
       "\n",
       "    .dataframe thead th {\n",
       "        text-align: right;\n",
       "    }\n",
       "</style>\n",
       "<table border=\"1\" class=\"dataframe\">\n",
       "  <thead>\n",
       "    <tr style=\"text-align: right;\">\n",
       "      <th></th>\n",
       "      <th>year</th>\n",
       "      <th>articles_for_year</th>\n",
       "      <th>articles_for_year_len</th>\n",
       "    </tr>\n",
       "  </thead>\n",
       "  <tbody>\n",
       "    <tr>\n",
       "      <th>0</th>\n",
       "      <td>2019</td>\n",
       "      <td>162</td>\n",
       "      <td>369760</td>\n",
       "    </tr>\n",
       "    <tr>\n",
       "      <th>1</th>\n",
       "      <td>2020</td>\n",
       "      <td>283</td>\n",
       "      <td>533984</td>\n",
       "    </tr>\n",
       "    <tr>\n",
       "      <th>2</th>\n",
       "      <td>2021</td>\n",
       "      <td>589</td>\n",
       "      <td>967450</td>\n",
       "    </tr>\n",
       "    <tr>\n",
       "      <th>3</th>\n",
       "      <td>2022</td>\n",
       "      <td>2380</td>\n",
       "      <td>3019176</td>\n",
       "    </tr>\n",
       "    <tr>\n",
       "      <th>4</th>\n",
       "      <td>2023</td>\n",
       "      <td>4837</td>\n",
       "      <td>5958874</td>\n",
       "    </tr>\n",
       "  </tbody>\n",
       "</table>\n",
       "</div>"
      ],
      "text/plain": [
       "   year  articles_for_year  articles_for_year_len\n",
       "0  2019                162                 369760\n",
       "1  2020                283                 533984\n",
       "2  2021                589                 967450\n",
       "3  2022               2380                3019176\n",
       "4  2023               4837                5958874"
      ]
     },
     "execution_count": 56,
     "metadata": {},
     "output_type": "execute_result"
    }
   ],
   "source": [
    "full_doaj_years[['year','articles_for_year','articles_for_year_len']]"
   ]
  },
  {
   "cell_type": "code",
   "execution_count": 57,
   "metadata": {},
   "outputs": [],
   "source": [
    "# все триграммы во всех статьях\n",
    "trigrams_list_for_df = trigram_article_count['trigram']\n",
    "\n",
    "# Создание словаря для данных в датафрейме\n",
    "data = {'trigram': trigrams_list_for_df}\n",
    "\n",
    "# Добавление столбцов с количеством триграмм и статей для каждого года\n",
    "years = ['2019', '2020', '2021', '2022', '2023']\n",
    "trigrams_all=list(full_doaj_years['articles_for_year'])\n",
    "articles_all=list(full_doaj_years['articles_for_year_len'])"
   ]
  },
  {
   "cell_type": "code",
   "execution_count": 58,
   "metadata": {},
   "outputs": [
    {
     "data": {
      "text/html": [
       "<div>\n",
       "<style scoped>\n",
       "    .dataframe tbody tr th:only-of-type {\n",
       "        vertical-align: middle;\n",
       "    }\n",
       "\n",
       "    .dataframe tbody tr th {\n",
       "        vertical-align: top;\n",
       "    }\n",
       "\n",
       "    .dataframe thead th {\n",
       "        text-align: right;\n",
       "    }\n",
       "</style>\n",
       "<table border=\"1\" class=\"dataframe\">\n",
       "  <thead>\n",
       "    <tr style=\"text-align: right;\">\n",
       "      <th></th>\n",
       "      <th>trigram</th>\n",
       "      <th>trigrams_all2019</th>\n",
       "      <th>articles_all2019</th>\n",
       "      <th>trigrams_all2020</th>\n",
       "      <th>articles_all2020</th>\n",
       "      <th>trigrams_all2021</th>\n",
       "      <th>articles_all2021</th>\n",
       "      <th>trigrams_all2022</th>\n",
       "      <th>articles_all2022</th>\n",
       "      <th>trigrams_all2023</th>\n",
       "      <th>articles_all2023</th>\n",
       "    </tr>\n",
       "  </thead>\n",
       "  <tbody>\n",
       "    <tr>\n",
       "      <th>0</th>\n",
       "      <td>essay discuss conversational</td>\n",
       "      <td>162</td>\n",
       "      <td>369760</td>\n",
       "      <td>283</td>\n",
       "      <td>533984</td>\n",
       "      <td>589</td>\n",
       "      <td>967450</td>\n",
       "      <td>2380</td>\n",
       "      <td>3019176</td>\n",
       "      <td>4837</td>\n",
       "      <td>5958874</td>\n",
       "    </tr>\n",
       "    <tr>\n",
       "      <th>1</th>\n",
       "      <td>discuss conversational systems</td>\n",
       "      <td>162</td>\n",
       "      <td>369760</td>\n",
       "      <td>283</td>\n",
       "      <td>533984</td>\n",
       "      <td>589</td>\n",
       "      <td>967450</td>\n",
       "      <td>2380</td>\n",
       "      <td>3019176</td>\n",
       "      <td>4837</td>\n",
       "      <td>5958874</td>\n",
       "    </tr>\n",
       "    <tr>\n",
       "      <th>2</th>\n",
       "      <td>conversational systems called</td>\n",
       "      <td>162</td>\n",
       "      <td>369760</td>\n",
       "      <td>283</td>\n",
       "      <td>533984</td>\n",
       "      <td>589</td>\n",
       "      <td>967450</td>\n",
       "      <td>2380</td>\n",
       "      <td>3019176</td>\n",
       "      <td>4837</td>\n",
       "      <td>5958874</td>\n",
       "    </tr>\n",
       "    <tr>\n",
       "      <th>3</th>\n",
       "      <td>systems called chatbots</td>\n",
       "      <td>162</td>\n",
       "      <td>369760</td>\n",
       "      <td>283</td>\n",
       "      <td>533984</td>\n",
       "      <td>589</td>\n",
       "      <td>967450</td>\n",
       "      <td>2380</td>\n",
       "      <td>3019176</td>\n",
       "      <td>4837</td>\n",
       "      <td>5958874</td>\n",
       "    </tr>\n",
       "    <tr>\n",
       "      <th>4</th>\n",
       "      <td>called chatbots natural</td>\n",
       "      <td>162</td>\n",
       "      <td>369760</td>\n",
       "      <td>283</td>\n",
       "      <td>533984</td>\n",
       "      <td>589</td>\n",
       "      <td>967450</td>\n",
       "      <td>2380</td>\n",
       "      <td>3019176</td>\n",
       "      <td>4837</td>\n",
       "      <td>5958874</td>\n",
       "    </tr>\n",
       "  </tbody>\n",
       "</table>\n",
       "</div>"
      ],
      "text/plain": [
       "                          trigram  trigrams_all2019  articles_all2019  \\\n",
       "0    essay discuss conversational               162            369760   \n",
       "1  discuss conversational systems               162            369760   \n",
       "2   conversational systems called               162            369760   \n",
       "3         systems called chatbots               162            369760   \n",
       "4         called chatbots natural               162            369760   \n",
       "\n",
       "   trigrams_all2020  articles_all2020  trigrams_all2021  articles_all2021  \\\n",
       "0               283            533984               589            967450   \n",
       "1               283            533984               589            967450   \n",
       "2               283            533984               589            967450   \n",
       "3               283            533984               589            967450   \n",
       "4               283            533984               589            967450   \n",
       "\n",
       "   trigrams_all2022  articles_all2022  trigrams_all2023  articles_all2023  \n",
       "0              2380           3019176              4837           5958874  \n",
       "1              2380           3019176              4837           5958874  \n",
       "2              2380           3019176              4837           5958874  \n",
       "3              2380           3019176              4837           5958874  \n",
       "4              2380           3019176              4837           5958874  "
      ]
     },
     "execution_count": 58,
     "metadata": {},
     "output_type": "execute_result"
    }
   ],
   "source": [
    "for year, tri, art in zip(years, trigrams_all, articles_all):\n",
    "    data[f'trigrams_all{year}'] = [tri] * len(trigrams_list_for_df)\n",
    "    data[f'articles_all{year}'] = [art] * len(trigrams_list_for_df)\n",
    "\n",
    "# Создание датафрейма\n",
    "trigrams_articles_all = pd.DataFrame(data)\n",
    "trigrams_articles_all.head()"
   ]
  },
  {
   "cell_type": "code",
   "execution_count": 59,
   "metadata": {},
   "outputs": [
    {
     "name": "stdout",
     "output_type": "stream",
     "text": [
      "<class 'pandas.core.frame.DataFrame'>\n",
      "RangeIndex: 9466581 entries, 0 to 9466580\n",
      "Data columns (total 11 columns):\n",
      " #   Column            Dtype \n",
      "---  ------            ----- \n",
      " 0   trigram           object\n",
      " 1   trigrams_all2019  int64 \n",
      " 2   articles_all2019  int64 \n",
      " 3   trigrams_all2020  int64 \n",
      " 4   articles_all2020  int64 \n",
      " 5   trigrams_all2021  int64 \n",
      " 6   articles_all2021  int64 \n",
      " 7   trigrams_all2022  int64 \n",
      " 8   articles_all2022  int64 \n",
      " 9   trigrams_all2023  int64 \n",
      " 10  articles_all2023  int64 \n",
      "dtypes: int64(10), object(1)\n",
      "memory usage: 794.5+ MB\n"
     ]
    }
   ],
   "source": [
    "trigrams_articles_all.info()"
   ]
  },
  {
   "cell_type": "code",
   "execution_count": 60,
   "metadata": {},
   "outputs": [],
   "source": [
    "# датафрейм с встречаемостью по каждому году и количеству вхождений в статьи и общим размеров корпуса каждого года и количеством статей \n",
    "trigrams_articles_for_years=pd.merge(trigram_article_count,trigrams_articles_all,how='left',on='trigram')"
   ]
  },
  {
   "cell_type": "code",
   "execution_count": 61,
   "metadata": {},
   "outputs": [
    {
     "data": {
      "text/html": [
       "<div>\n",
       "<style scoped>\n",
       "    .dataframe tbody tr th:only-of-type {\n",
       "        vertical-align: middle;\n",
       "    }\n",
       "\n",
       "    .dataframe tbody tr th {\n",
       "        vertical-align: top;\n",
       "    }\n",
       "\n",
       "    .dataframe thead th {\n",
       "        text-align: right;\n",
       "    }\n",
       "</style>\n",
       "<table border=\"1\" class=\"dataframe\">\n",
       "  <thead>\n",
       "    <tr style=\"text-align: right;\">\n",
       "      <th></th>\n",
       "      <th>trigram</th>\n",
       "      <th>trigram_count2019</th>\n",
       "      <th>trigram_count2020</th>\n",
       "      <th>trigram_count2021</th>\n",
       "      <th>trigram_count2022</th>\n",
       "      <th>trigram_count2023</th>\n",
       "      <th>trigram_count</th>\n",
       "      <th>article_count2019</th>\n",
       "      <th>article_count2020</th>\n",
       "      <th>article_count2021</th>\n",
       "      <th>article_count2022</th>\n",
       "      <th>article_count2023</th>\n",
       "      <th>trigrams_all2019</th>\n",
       "      <th>articles_all2019</th>\n",
       "      <th>trigrams_all2020</th>\n",
       "      <th>articles_all2020</th>\n",
       "      <th>trigrams_all2021</th>\n",
       "      <th>articles_all2021</th>\n",
       "      <th>trigrams_all2022</th>\n",
       "      <th>articles_all2022</th>\n",
       "      <th>trigrams_all2023</th>\n",
       "      <th>articles_all2023</th>\n",
       "    </tr>\n",
       "  </thead>\n",
       "  <tbody>\n",
       "    <tr>\n",
       "      <th>9466576</th>\n",
       "      <td>1987smith january 2021</td>\n",
       "      <td>0.0</td>\n",
       "      <td>0.0</td>\n",
       "      <td>0.0</td>\n",
       "      <td>0.0</td>\n",
       "      <td>1.0</td>\n",
       "      <td>1.0</td>\n",
       "      <td>0</td>\n",
       "      <td>0</td>\n",
       "      <td>0</td>\n",
       "      <td>0</td>\n",
       "      <td>1</td>\n",
       "      <td>162</td>\n",
       "      <td>369760</td>\n",
       "      <td>283</td>\n",
       "      <td>533984</td>\n",
       "      <td>589</td>\n",
       "      <td>967450</td>\n",
       "      <td>2380</td>\n",
       "      <td>3019176</td>\n",
       "      <td>4837</td>\n",
       "      <td>5958874</td>\n",
       "    </tr>\n",
       "    <tr>\n",
       "      <th>9466577</th>\n",
       "      <td>ethical restrictions protect</td>\n",
       "      <td>0.0</td>\n",
       "      <td>0.0</td>\n",
       "      <td>0.0</td>\n",
       "      <td>0.0</td>\n",
       "      <td>1.0</td>\n",
       "      <td>1.0</td>\n",
       "      <td>0</td>\n",
       "      <td>0</td>\n",
       "      <td>0</td>\n",
       "      <td>0</td>\n",
       "      <td>1</td>\n",
       "      <td>162</td>\n",
       "      <td>369760</td>\n",
       "      <td>283</td>\n",
       "      <td>533984</td>\n",
       "      <td>589</td>\n",
       "      <td>967450</td>\n",
       "      <td>2380</td>\n",
       "      <td>3019176</td>\n",
       "      <td>4837</td>\n",
       "      <td>5958874</td>\n",
       "    </tr>\n",
       "    <tr>\n",
       "      <th>9466578</th>\n",
       "      <td>restrictions protect identity</td>\n",
       "      <td>0.0</td>\n",
       "      <td>0.0</td>\n",
       "      <td>0.0</td>\n",
       "      <td>0.0</td>\n",
       "      <td>1.0</td>\n",
       "      <td>1.0</td>\n",
       "      <td>0</td>\n",
       "      <td>0</td>\n",
       "      <td>0</td>\n",
       "      <td>0</td>\n",
       "      <td>1</td>\n",
       "      <td>162</td>\n",
       "      <td>369760</td>\n",
       "      <td>283</td>\n",
       "      <td>533984</td>\n",
       "      <td>589</td>\n",
       "      <td>967450</td>\n",
       "      <td>2380</td>\n",
       "      <td>3019176</td>\n",
       "      <td>4837</td>\n",
       "      <td>5958874</td>\n",
       "    </tr>\n",
       "    <tr>\n",
       "      <th>9466579</th>\n",
       "      <td>protect identity privacy</td>\n",
       "      <td>0.0</td>\n",
       "      <td>0.0</td>\n",
       "      <td>0.0</td>\n",
       "      <td>0.0</td>\n",
       "      <td>1.0</td>\n",
       "      <td>1.0</td>\n",
       "      <td>0</td>\n",
       "      <td>0</td>\n",
       "      <td>0</td>\n",
       "      <td>0</td>\n",
       "      <td>1</td>\n",
       "      <td>162</td>\n",
       "      <td>369760</td>\n",
       "      <td>283</td>\n",
       "      <td>533984</td>\n",
       "      <td>589</td>\n",
       "      <td>967450</td>\n",
       "      <td>2380</td>\n",
       "      <td>3019176</td>\n",
       "      <td>4837</td>\n",
       "      <td>5958874</td>\n",
       "    </tr>\n",
       "    <tr>\n",
       "      <th>9466580</th>\n",
       "      <td>identity privacy declare</td>\n",
       "      <td>0.0</td>\n",
       "      <td>0.0</td>\n",
       "      <td>0.0</td>\n",
       "      <td>0.0</td>\n",
       "      <td>1.0</td>\n",
       "      <td>1.0</td>\n",
       "      <td>0</td>\n",
       "      <td>0</td>\n",
       "      <td>0</td>\n",
       "      <td>0</td>\n",
       "      <td>1</td>\n",
       "      <td>162</td>\n",
       "      <td>369760</td>\n",
       "      <td>283</td>\n",
       "      <td>533984</td>\n",
       "      <td>589</td>\n",
       "      <td>967450</td>\n",
       "      <td>2380</td>\n",
       "      <td>3019176</td>\n",
       "      <td>4837</td>\n",
       "      <td>5958874</td>\n",
       "    </tr>\n",
       "  </tbody>\n",
       "</table>\n",
       "</div>"
      ],
      "text/plain": [
       "                               trigram  trigram_count2019  trigram_count2020  \\\n",
       "9466576         1987smith january 2021                0.0                0.0   \n",
       "9466577   ethical restrictions protect                0.0                0.0   \n",
       "9466578  restrictions protect identity                0.0                0.0   \n",
       "9466579       protect identity privacy                0.0                0.0   \n",
       "9466580       identity privacy declare                0.0                0.0   \n",
       "\n",
       "         trigram_count2021  trigram_count2022  trigram_count2023  \\\n",
       "9466576                0.0                0.0                1.0   \n",
       "9466577                0.0                0.0                1.0   \n",
       "9466578                0.0                0.0                1.0   \n",
       "9466579                0.0                0.0                1.0   \n",
       "9466580                0.0                0.0                1.0   \n",
       "\n",
       "         trigram_count  article_count2019  article_count2020  \\\n",
       "9466576            1.0                  0                  0   \n",
       "9466577            1.0                  0                  0   \n",
       "9466578            1.0                  0                  0   \n",
       "9466579            1.0                  0                  0   \n",
       "9466580            1.0                  0                  0   \n",
       "\n",
       "         article_count2021  article_count2022  article_count2023  \\\n",
       "9466576                  0                  0                  1   \n",
       "9466577                  0                  0                  1   \n",
       "9466578                  0                  0                  1   \n",
       "9466579                  0                  0                  1   \n",
       "9466580                  0                  0                  1   \n",
       "\n",
       "         trigrams_all2019  articles_all2019  trigrams_all2020  \\\n",
       "9466576               162            369760               283   \n",
       "9466577               162            369760               283   \n",
       "9466578               162            369760               283   \n",
       "9466579               162            369760               283   \n",
       "9466580               162            369760               283   \n",
       "\n",
       "         articles_all2020  trigrams_all2021  articles_all2021  \\\n",
       "9466576            533984               589            967450   \n",
       "9466577            533984               589            967450   \n",
       "9466578            533984               589            967450   \n",
       "9466579            533984               589            967450   \n",
       "9466580            533984               589            967450   \n",
       "\n",
       "         trigrams_all2022  articles_all2022  trigrams_all2023  \\\n",
       "9466576              2380           3019176              4837   \n",
       "9466577              2380           3019176              4837   \n",
       "9466578              2380           3019176              4837   \n",
       "9466579              2380           3019176              4837   \n",
       "9466580              2380           3019176              4837   \n",
       "\n",
       "         articles_all2023  \n",
       "9466576           5958874  \n",
       "9466577           5958874  \n",
       "9466578           5958874  \n",
       "9466579           5958874  \n",
       "9466580           5958874  "
      ]
     },
     "execution_count": 61,
     "metadata": {},
     "output_type": "execute_result"
    }
   ],
   "source": [
    "trigrams_articles_for_years.tail(5)"
   ]
  },
  {
   "cell_type": "code",
   "execution_count": null,
   "metadata": {},
   "outputs": [],
   "source": []
  },
  {
   "cell_type": "code",
   "execution_count": 62,
   "metadata": {},
   "outputs": [],
   "source": [
    "trigram_result_df['trigram_count']=trigram_result_df['trigram_count2019']+trigram_result_df['trigram_count2020']+trigram_result_df['trigram_count2021']+trigram_result_df['trigram_count2022']+trigram_result_df['trigram_count2023']"
   ]
  },
  {
   "cell_type": "code",
   "execution_count": 63,
   "metadata": {},
   "outputs": [],
   "source": [
    "trigram_result_df_10=trigram_result_df.query('trigram_count>=10')"
   ]
  },
  {
   "cell_type": "code",
   "execution_count": 64,
   "metadata": {},
   "outputs": [],
   "source": [
    "trigrams_articles_for_years=trigrams_articles_for_years.drop('trigram_count',axis=1)"
   ]
  },
  {
   "cell_type": "code",
   "execution_count": 65,
   "metadata": {},
   "outputs": [],
   "source": [
    "# загрузка размеченных данных \n",
    "trigram_marked= pd.read_excel('C:/Users/a.safonov/future_world/balanced_model/500-500.xlsx', dtype=str)\n",
    "trigram_marked.to_csv(\"C:/Users/a.safonov/future_world/balanced_model/\\.xlsx\", index=False, sep=';')\n"
   ]
  },
  {
   "cell_type": "code",
   "execution_count": null,
   "metadata": {},
   "outputs": [],
   "source": []
  },
  {
   "cell_type": "code",
   "execution_count": 66,
   "metadata": {},
   "outputs": [
    {
     "data": {
      "text/plain": [
       "mark\n",
       "1    500\n",
       "4    500\n",
       "Name: count, dtype: int64"
      ]
     },
     "execution_count": 66,
     "metadata": {},
     "output_type": "execute_result"
    }
   ],
   "source": [
    "trigram_marked['mark'].value_counts()"
   ]
  },
  {
   "cell_type": "code",
   "execution_count": 67,
   "metadata": {},
   "outputs": [],
   "source": [
    "# МОДЕЛЬ"
   ]
  },
  {
   "cell_type": "code",
   "execution_count": 68,
   "metadata": {},
   "outputs": [
    {
     "name": "stdout",
     "output_type": "stream",
     "text": [
      "<class 'pandas.core.frame.DataFrame'>\n",
      "RangeIndex: 9466581 entries, 0 to 9466580\n",
      "Data columns (total 21 columns):\n",
      " #   Column             Dtype  \n",
      "---  ------             -----  \n",
      " 0   trigram            object \n",
      " 1   trigram_count2019  float64\n",
      " 2   trigram_count2020  float64\n",
      " 3   trigram_count2021  float64\n",
      " 4   trigram_count2022  float64\n",
      " 5   trigram_count2023  float64\n",
      " 6   article_count2019  int64  \n",
      " 7   article_count2020  int64  \n",
      " 8   article_count2021  int64  \n",
      " 9   article_count2022  int64  \n",
      " 10  article_count2023  int64  \n",
      " 11  trigrams_all2019   int64  \n",
      " 12  articles_all2019   int64  \n",
      " 13  trigrams_all2020   int64  \n",
      " 14  articles_all2020   int64  \n",
      " 15  trigrams_all2021   int64  \n",
      " 16  articles_all2021   int64  \n",
      " 17  trigrams_all2022   int64  \n",
      " 18  articles_all2022   int64  \n",
      " 19  trigrams_all2023   int64  \n",
      " 20  articles_all2023   int64  \n",
      "dtypes: float64(5), int64(15), object(1)\n",
      "memory usage: 1.5+ GB\n"
     ]
    }
   ],
   "source": [
    "trigrams_articles_for_years.info()"
   ]
  },
  {
   "cell_type": "code",
   "execution_count": 69,
   "metadata": {},
   "outputs": [],
   "source": [
    "trigrams_articles_for_years.to_csv('C:/Users/a.safonov/future_world/balanced_model/trigrams_for_model_9m.csv', index=False)"
   ]
  },
  {
   "cell_type": "code",
   "execution_count": 70,
   "metadata": {},
   "outputs": [],
   "source": [
    "# объединение признаков и таргета \n",
    "trigrams_for_model=pd.merge(trigrams_articles_for_years,trigram_marked,how='inner',on='trigram')"
   ]
  },
  {
   "cell_type": "code",
   "execution_count": 71,
   "metadata": {},
   "outputs": [
    {
     "name": "stdout",
     "output_type": "stream",
     "text": [
      "<class 'pandas.core.frame.DataFrame'>\n",
      "RangeIndex: 999 entries, 0 to 998\n",
      "Data columns (total 22 columns):\n",
      " #   Column             Non-Null Count  Dtype  \n",
      "---  ------             --------------  -----  \n",
      " 0   trigram            999 non-null    object \n",
      " 1   trigram_count2019  999 non-null    float64\n",
      " 2   trigram_count2020  999 non-null    float64\n",
      " 3   trigram_count2021  999 non-null    float64\n",
      " 4   trigram_count2022  999 non-null    float64\n",
      " 5   trigram_count2023  999 non-null    float64\n",
      " 6   article_count2019  999 non-null    int64  \n",
      " 7   article_count2020  999 non-null    int64  \n",
      " 8   article_count2021  999 non-null    int64  \n",
      " 9   article_count2022  999 non-null    int64  \n",
      " 10  article_count2023  999 non-null    int64  \n",
      " 11  trigrams_all2019   999 non-null    int64  \n",
      " 12  articles_all2019   999 non-null    int64  \n",
      " 13  trigrams_all2020   999 non-null    int64  \n",
      " 14  articles_all2020   999 non-null    int64  \n",
      " 15  trigrams_all2021   999 non-null    int64  \n",
      " 16  articles_all2021   999 non-null    int64  \n",
      " 17  trigrams_all2022   999 non-null    int64  \n",
      " 18  articles_all2022   999 non-null    int64  \n",
      " 19  trigrams_all2023   999 non-null    int64  \n",
      " 20  articles_all2023   999 non-null    int64  \n",
      " 21  mark               999 non-null    object \n",
      "dtypes: float64(5), int64(15), object(2)\n",
      "memory usage: 171.8+ KB\n"
     ]
    }
   ],
   "source": [
    "trigrams_for_model.info()"
   ]
  },
  {
   "cell_type": "code",
   "execution_count": 72,
   "metadata": {},
   "outputs": [
    {
     "data": {
      "text/html": [
       "<div>\n",
       "<style scoped>\n",
       "    .dataframe tbody tr th:only-of-type {\n",
       "        vertical-align: middle;\n",
       "    }\n",
       "\n",
       "    .dataframe tbody tr th {\n",
       "        vertical-align: top;\n",
       "    }\n",
       "\n",
       "    .dataframe thead th {\n",
       "        text-align: right;\n",
       "    }\n",
       "</style>\n",
       "<table border=\"1\" class=\"dataframe\">\n",
       "  <thead>\n",
       "    <tr style=\"text-align: right;\">\n",
       "      <th></th>\n",
       "      <th>trigram</th>\n",
       "      <th>trigram_count2019</th>\n",
       "      <th>trigram_count2020</th>\n",
       "      <th>trigram_count2021</th>\n",
       "      <th>trigram_count2022</th>\n",
       "      <th>trigram_count2023</th>\n",
       "      <th>article_count2019</th>\n",
       "      <th>article_count2020</th>\n",
       "      <th>article_count2021</th>\n",
       "      <th>article_count2022</th>\n",
       "      <th>article_count2023</th>\n",
       "      <th>trigrams_all2019</th>\n",
       "      <th>articles_all2019</th>\n",
       "      <th>trigrams_all2020</th>\n",
       "      <th>articles_all2020</th>\n",
       "      <th>trigrams_all2021</th>\n",
       "      <th>articles_all2021</th>\n",
       "      <th>trigrams_all2022</th>\n",
       "      <th>articles_all2022</th>\n",
       "      <th>trigrams_all2023</th>\n",
       "      <th>articles_all2023</th>\n",
       "      <th>mark</th>\n",
       "    </tr>\n",
       "  </thead>\n",
       "  <tbody>\n",
       "    <tr>\n",
       "      <th>0</th>\n",
       "      <td>language processing nlp</td>\n",
       "      <td>2.0</td>\n",
       "      <td>1.0</td>\n",
       "      <td>3.0</td>\n",
       "      <td>9.0</td>\n",
       "      <td>34.0</td>\n",
       "      <td>2</td>\n",
       "      <td>1</td>\n",
       "      <td>3</td>\n",
       "      <td>9</td>\n",
       "      <td>31</td>\n",
       "      <td>162</td>\n",
       "      <td>369760</td>\n",
       "      <td>283</td>\n",
       "      <td>533984</td>\n",
       "      <td>589</td>\n",
       "      <td>967450</td>\n",
       "      <td>2380</td>\n",
       "      <td>3019176</td>\n",
       "      <td>4837</td>\n",
       "      <td>5958874</td>\n",
       "      <td>1</td>\n",
       "    </tr>\n",
       "    <tr>\n",
       "      <th>1</th>\n",
       "      <td>study collection analyses</td>\n",
       "      <td>5.0</td>\n",
       "      <td>10.0</td>\n",
       "      <td>21.0</td>\n",
       "      <td>108.0</td>\n",
       "      <td>256.0</td>\n",
       "      <td>5</td>\n",
       "      <td>10</td>\n",
       "      <td>21</td>\n",
       "      <td>107</td>\n",
       "      <td>255</td>\n",
       "      <td>162</td>\n",
       "      <td>369760</td>\n",
       "      <td>283</td>\n",
       "      <td>533984</td>\n",
       "      <td>589</td>\n",
       "      <td>967450</td>\n",
       "      <td>2380</td>\n",
       "      <td>3019176</td>\n",
       "      <td>4837</td>\n",
       "      <td>5958874</td>\n",
       "      <td>4</td>\n",
       "    </tr>\n",
       "    <tr>\n",
       "      <th>2</th>\n",
       "      <td>machine learning model</td>\n",
       "      <td>4.0</td>\n",
       "      <td>0.0</td>\n",
       "      <td>7.0</td>\n",
       "      <td>40.0</td>\n",
       "      <td>62.0</td>\n",
       "      <td>3</td>\n",
       "      <td>0</td>\n",
       "      <td>4</td>\n",
       "      <td>23</td>\n",
       "      <td>45</td>\n",
       "      <td>162</td>\n",
       "      <td>369760</td>\n",
       "      <td>283</td>\n",
       "      <td>533984</td>\n",
       "      <td>589</td>\n",
       "      <td>967450</td>\n",
       "      <td>2380</td>\n",
       "      <td>3019176</td>\n",
       "      <td>4837</td>\n",
       "      <td>5958874</td>\n",
       "      <td>1</td>\n",
       "    </tr>\n",
       "  </tbody>\n",
       "</table>\n",
       "</div>"
      ],
      "text/plain": [
       "                     trigram  trigram_count2019  trigram_count2020  \\\n",
       "0    language processing nlp                2.0                1.0   \n",
       "1  study collection analyses                5.0               10.0   \n",
       "2     machine learning model                4.0                0.0   \n",
       "\n",
       "   trigram_count2021  trigram_count2022  trigram_count2023  article_count2019  \\\n",
       "0                3.0                9.0               34.0                  2   \n",
       "1               21.0              108.0              256.0                  5   \n",
       "2                7.0               40.0               62.0                  3   \n",
       "\n",
       "   article_count2020  article_count2021  article_count2022  article_count2023  \\\n",
       "0                  1                  3                  9                 31   \n",
       "1                 10                 21                107                255   \n",
       "2                  0                  4                 23                 45   \n",
       "\n",
       "   trigrams_all2019  articles_all2019  trigrams_all2020  articles_all2020  \\\n",
       "0               162            369760               283            533984   \n",
       "1               162            369760               283            533984   \n",
       "2               162            369760               283            533984   \n",
       "\n",
       "   trigrams_all2021  articles_all2021  trigrams_all2022  articles_all2022  \\\n",
       "0               589            967450              2380           3019176   \n",
       "1               589            967450              2380           3019176   \n",
       "2               589            967450              2380           3019176   \n",
       "\n",
       "   trigrams_all2023  articles_all2023 mark  \n",
       "0              4837           5958874    1  \n",
       "1              4837           5958874    4  \n",
       "2              4837           5958874    1  "
      ]
     },
     "execution_count": 72,
     "metadata": {},
     "output_type": "execute_result"
    }
   ],
   "source": [
    "trigrams_for_model.head(3)"
   ]
  },
  {
   "cell_type": "code",
   "execution_count": 73,
   "metadata": {},
   "outputs": [],
   "source": [
    "# размеченные триграммы, которые нужно будет убрать при тестировании \n",
    "trigrams_for_remove=list(trigrams_for_model['trigram'])"
   ]
  },
  {
   "cell_type": "code",
   "execution_count": 74,
   "metadata": {},
   "outputs": [
    {
     "data": {
      "text/plain": [
       "999"
      ]
     },
     "execution_count": 74,
     "metadata": {},
     "output_type": "execute_result"
    }
   ],
   "source": [
    "len(trigrams_for_remove)"
   ]
  },
  {
   "cell_type": "code",
   "execution_count": 75,
   "metadata": {},
   "outputs": [
    {
     "name": "stdout",
     "output_type": "stream",
     "text": [
      "Лучшие параметры: {'max_depth': None, 'min_samples_leaf': 1, 'min_samples_split': 10, 'n_estimators': 200}\n",
      "Лучшая F-мера: 0.740776393830663\n"
     ]
    }
   ],
   "source": [
    "# X - признаки, y - целевая переменная\n",
    "X = trigrams_for_model.drop(['mark', 'trigram'], axis=1)\n",
    "y = trigrams_for_model['mark']\n",
    "\n",
    "# Разбивка данных на тренировочный и тестовый набор\n",
    "X_train, X_test, y_train, y_test = train_test_split(X, y, test_size=0.2, random_state=42)\n",
    "\n",
    "# Рассчет весов классов для учета дисбаланса\n",
    "class_weights = compute_class_weight('balanced', classes=np.unique(y_train), y=y_train)\n",
    "\n",
    "# Определение модели RandomForestClassifier с учетом весов классов\n",
    "rf_model = RandomForestClassifier(class_weight=dict(zip(np.unique(y_train), class_weights)))\n",
    "\n",
    "# Задание сетки параметров для перебора\n",
    "param_grid = {\n",
    "    'n_estimators': [50, 100, 200],\n",
    "    'max_depth': [None, 10, 20, 30],\n",
    "    'min_samples_split': [2, 5, 10],\n",
    "    'min_samples_leaf': [1, 2, 4]\n",
    "}\n",
    "\n",
    "# Создание объекта GridSearchCV\n",
    "grid_search = GridSearchCV(estimator=rf_model, param_grid=param_grid, cv=5, scoring='f1_macro', n_jobs=-1)\n",
    "\n",
    "# Обучение модели с перебором гиперпараметров\n",
    "grid_search.fit(X_train, y_train)\n",
    "\n",
    "# Вывод лучших параметров и соответствующей F-меры\n",
    "print(\"Лучшие параметры:\", grid_search.best_params_)\n",
    "print(\"Лучшая F-мера:\", grid_search.best_score_)\n",
    "\n",
    "# Получение предсказаний на тестовом наборе\n",
    "y_pred = grid_search.predict(X_test)\n"
   ]
  },
  {
   "cell_type": "code",
   "execution_count": 76,
   "metadata": {},
   "outputs": [],
   "source": [
    "preds_forrest=pd.Series(y_pred)\n",
    "answers_forrest=pd.Series(y_test).reset_index(drop=True)"
   ]
  },
  {
   "cell_type": "code",
   "execution_count": 77,
   "metadata": {},
   "outputs": [],
   "source": [
    "conf_matrix=confusion_matrix(answers_forrest,preds_forrest)"
   ]
  },
  {
   "cell_type": "code",
   "execution_count": 78,
   "metadata": {},
   "outputs": [
    {
     "data": {
      "text/plain": [
       "array([[62, 35],\n",
       "       [28, 75]], dtype=int64)"
      ]
     },
     "execution_count": 78,
     "metadata": {},
     "output_type": "execute_result"
    }
   ],
   "source": [
    "conf_matrix"
   ]
  },
  {
   "cell_type": "code",
   "execution_count": null,
   "metadata": {},
   "outputs": [],
   "source": [
    "pred_forrest.head(1)"
   ]
  },
  {
   "cell_type": "code",
   "execution_count": null,
   "metadata": {},
   "outputs": [],
   "source": [
    "\n",
    "# Оценка F-меры модели\n",
    "f1_macro = classification_report(y_test, y_pred, target_names=['1','4'], output_dict=True)['macro avg']['f1-score']\n",
    "print(\"F-мера на тестовом наборе:\", f1_macro)\n",
    "\n",
    "# Рассчет и вывод accuracy модели\n",
    "accuracy = accuracy_score(y_test, y_pred)\n",
    "print(\"Accuracy на тестовом наборе:\", accuracy)\n"
   ]
  },
  {
   "cell_type": "code",
   "execution_count": null,
   "metadata": {},
   "outputs": [],
   "source": [
    "y_probs = grid_search.predict_proba(X_test)\n",
    "roc_auc = roc_auc_score(y_test, y_pred)\n",
    "print(\"AUC-ROC на тестовом наборе:\", roc_auc)"
   ]
  },
  {
   "cell_type": "code",
   "execution_count": null,
   "metadata": {},
   "outputs": [],
   "source": [
    "# random forrest предсказываем для > 3 000 000 шинглов"
   ]
  },
  {
   "cell_type": "code",
   "execution_count": null,
   "metadata": {},
   "outputs": [],
   "source": [
    "# все триграммы с 19 по 23 кроме тех, по которым проводилось обучение \n",
    "trigram_result_test=trigrams_articles_for_years.query('trigram not in @trigrams_for_remove')"
   ]
  },
  {
   "cell_type": "code",
   "execution_count": null,
   "metadata": {},
   "outputs": [],
   "source": [
    "trigram_result_test.head()"
   ]
  },
  {
   "cell_type": "code",
   "execution_count": null,
   "metadata": {},
   "outputs": [],
   "source": [
    "trigram_result_test_5=trigram_result_test.query('trigram_count>=5')"
   ]
  },
  {
   "cell_type": "code",
   "execution_count": null,
   "metadata": {},
   "outputs": [],
   "source": [
    "\n",
    "# оставляю только признаки для модели \n",
    "trigrams_for_prediction = trigram_result_test_5.drop(['trigram'], axis=1)\n"
   ]
  },
  {
   "cell_type": "code",
   "execution_count": null,
   "metadata": {},
   "outputs": [],
   "source": []
  },
  {
   "cell_type": "code",
   "execution_count": null,
   "metadata": {},
   "outputs": [],
   "source": [
    "# отделяю сами триграммы, чтобы после предикта объединить \n",
    "trigrams_after_prediction=trigram_result_test_5['trigram'].reset_index(drop=True)\n"
   ]
  },
  {
   "cell_type": "code",
   "execution_count": null,
   "metadata": {},
   "outputs": [],
   "source": [
    "trigrams_after_prediction.info()"
   ]
  },
  {
   "cell_type": "code",
   "execution_count": null,
   "metadata": {},
   "outputs": [],
   "source": [
    "predictions_series.head()"
   ]
  },
  {
   "cell_type": "code",
   "execution_count": null,
   "metadata": {},
   "outputs": [],
   "source": [
    "\n",
    "# предсказываем для всех триграмм(кроме выборки для обучения) \n",
    "new_predictions = grid_search.predict(trigrams_for_prediction)\n",
    "# соединяю предсказания модели с самими триграммами \n",
    "predictions_series=pd.Series(new_predictions)\n",
    "predictions_df=pd.concat([trigrams_after_prediction, predictions_series], axis=1)\n",
    "predictions_df.columns=['trigram','prediction']\n",
    "\n",
    "# предсказания модели для > 3 000 000 триграмм \n",
    "predictions_df.info()\n"
   ]
  }
 ],
 "metadata": {
  "kernelspec": {
   "display_name": "Python 3",
   "language": "python",
   "name": "python3"
  },
  "language_info": {
   "codemirror_mode": {
    "name": "ipython",
    "version": 3
   },
   "file_extension": ".py",
   "mimetype": "text/x-python",
   "name": "python",
   "nbconvert_exporter": "python",
   "pygments_lexer": "ipython3",
   "version": "3.11.4"
  }
 },
 "nbformat": 4,
 "nbformat_minor": 2
}
